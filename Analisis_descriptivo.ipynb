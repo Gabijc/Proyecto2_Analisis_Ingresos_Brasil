{
 "cells": [
  {
   "cell_type": "markdown",
   "metadata": {},
   "source": [
    "En este documento vamos a realizar un análisis descriptivo de las columnas numéricas de nuestros dataframe. "
   ]
  }
 ],
 "metadata": {
  "language_info": {
   "name": "python"
  }
 },
 "nbformat": 4,
 "nbformat_minor": 2
}
